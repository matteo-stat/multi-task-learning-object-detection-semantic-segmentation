{
 "cells": [
  {
   "cell_type": "markdown",
   "metadata": {},
   "source": [
    "# colab setup"
   ]
  },
  {
   "cell_type": "markdown",
   "metadata": {},
   "source": [
    "## clone repository and setup"
   ]
  },
  {
   "cell_type": "code",
   "execution_count": null,
   "metadata": {},
   "outputs": [],
   "source": [
    "# clone github repository\n",
    "!git clone 'https://github.com/matteo-stat/ssd-segmentation.git'\n",
    "\n",
    "# copy data from google drive and unzip\n",
    "from google.colab import drive\n",
    "drive.mount('/content/drive')\n",
    "!unzip -o '/content/drive/MyDrive/ssd-segmentation-data/data.zip' -d '/content/ssd-segmentation/'\n",
    "\n",
    "# change working directory to cloned repository folder\n",
    "%cd '/content/ssd-segmentation/'\n",
    "!ls"
   ]
  },
  {
   "cell_type": "markdown",
   "metadata": {},
   "source": [
    "## run scripts on a venv (optional)"
   ]
  },
  {
   "cell_type": "code",
   "execution_count": null,
   "metadata": {},
   "outputs": [],
   "source": [
    "# install virtualenv module\n",
    "!pip install virtualenv\n",
    "\n",
    "# create a new virtual environment\n",
    "!virtualenv venv\n",
    "\n",
    "# check the new virtual environment\n",
    "!source 'venv/bin/activate'; pip list\n",
    "\n",
    "# install requirements\n",
    "!source 'venv/bin/activate'; pip install -r requirements.txt\n",
    "\n",
    "# run a script\n",
    "!source '/venv/bin/activate'; python -m 'example-training-multi-target-network.py'"
   ]
  },
  {
   "cell_type": "markdown",
   "metadata": {},
   "source": [
    "# global variables"
   ]
  },
  {
   "cell_type": "code",
   "execution_count": 1,
   "metadata": {},
   "outputs": [],
   "source": [
    "# data options\n",
    "INPUT_IMAGE_SHAPE = (480, 640)\n",
    "NUMBER_OF_CLASSES = 4\n",
    "\n",
    "# tensorflow options\n",
    "SHUFFLE_BUFFER_SIZE = 512\n",
    "BATCH_SIZE = 16\n",
    "SEED = 1993"
   ]
  },
  {
   "cell_type": "markdown",
   "metadata": {},
   "source": [
    "# dependecies"
   ]
  },
  {
   "cell_type": "code",
   "execution_count": 2,
   "metadata": {},
   "outputs": [],
   "source": [
    "import ssdseglib\n",
    "import tensorflow as tf\n",
    "import json\n",
    "tf.random.set_seed(SEED)"
   ]
  },
  {
   "cell_type": "markdown",
   "metadata": {},
   "source": [
    "# default bounding boxes"
   ]
  },
  {
   "cell_type": "code",
   "execution_count": 3,
   "metadata": {},
   "outputs": [],
   "source": [
    "# create default bounding boxes\n",
    "boxes_default = ssdseglib.boxes.DefaultBoundingBoxes(\n",
    "    feature_maps_shapes=((30, 40), (15, 20), (8, 10), (4, 5)),\n",
    "    centers_padding_from_borders_percentage=0.025,\n",
    "    boxes_scales=(0.2, 0.9),\n",
    "    additional_square_box=True,  \n",
    ")\n",
    "\n",
    "# rescale default bounding boxes to input image shape\n",
    "boxes_default.rescale_boxes_coordinates(image_shape=INPUT_IMAGE_SHAPE)"
   ]
  },
  {
   "cell_type": "markdown",
   "metadata": {},
   "source": [
    "# input data"
   ]
  },
  {
   "cell_type": "markdown",
   "metadata": {},
   "source": [
    "## load metadata"
   ]
  },
  {
   "cell_type": "code",
   "execution_count": 4,
   "metadata": {},
   "outputs": [],
   "source": [
    "# training\n",
    "with open('data/train.json', 'r') as f:\n",
    "    path_images_train, path_masks_train, path_labels_boxes_train = map(list, zip(*json.load(f)))\n",
    "\n",
    "# validation\n",
    "with open('data/eval.json', 'r') as f:\n",
    "    path_images_eval, path_masks_eval, path_labels_boxes_eval = map(list, zip(*json.load(f)))\n",
    "\n",
    "# test\n",
    "with open('data/test.json', 'r') as f:\n",
    "    path_images_test, path_masks_test, path_labels_boxes_test = map(list, zip(*json.load(f)))"
   ]
  },
  {
   "cell_type": "markdown",
   "metadata": {},
   "source": [
    "## data encoder"
   ]
  },
  {
   "cell_type": "code",
   "execution_count": 5,
   "metadata": {},
   "outputs": [],
   "source": [
    "# create a data reader encoder\n",
    "data_reader_encoder = ssdseglib.datacoder.DataEncoderDecoder(\n",
    "    num_classes=NUMBER_OF_CLASSES,\n",
    "    image_shape=INPUT_IMAGE_SHAPE,\n",
    "    xmin_boxes_default=boxes_default.get_boxes_coordinates_xmin(coordinates_style='ssd'),\n",
    "    ymin_boxes_default=boxes_default.get_boxes_coordinates_ymin(coordinates_style='ssd'),\n",
    "    xmax_boxes_default=boxes_default.get_boxes_coordinates_xmax(coordinates_style='ssd'),\n",
    "    ymax_boxes_default=boxes_default.get_boxes_coordinates_ymax(coordinates_style='ssd'),\n",
    "    iou_threshold=0.5,\n",
    "    standard_deviations_centroids_offsets=(0.1, 0.1, 0.2, 0.2),\n",
    "    augmentation_horizontal_flip=True\n",
    ")"
   ]
  },
  {
   "cell_type": "markdown",
   "metadata": {},
   "source": [
    "## tensorflow datasets"
   ]
  },
  {
   "cell_type": "code",
   "execution_count": 6,
   "metadata": {},
   "outputs": [],
   "source": [
    "# training\n",
    "ds_train = (\n",
    "    tf.data.Dataset.from_tensor_slices((path_images_train, path_masks_train, path_labels_boxes_train))\n",
    "    .shuffle(buffer_size=len(path_images_train))\n",
    "    .map(data_reader_encoder.read_and_encode, num_parallel_calls=tf.data.AUTOTUNE)\n",
    "    .batch(batch_size=BATCH_SIZE)\n",
    "    .map(ssdseglib.datacoder.augmentation_rgb_channels, num_parallel_calls=tf.data.AUTOTUNE)\n",
    "    .prefetch(buffer_size=tf.data.AUTOTUNE)\n",
    ")\n",
    "\n",
    "# validation\n",
    "ds_eval = (\n",
    "    tf.data.Dataset.from_tensor_slices((path_images_eval, path_masks_eval, path_labels_boxes_eval))\n",
    "    .shuffle(buffer_size=len(path_images_eval))\n",
    "    .map(data_reader_encoder.read_and_encode, num_parallel_calls=tf.data.AUTOTUNE)\n",
    "    .batch(batch_size=BATCH_SIZE)\n",
    "    .map(ssdseglib.datacoder.augmentation_rgb_channels, num_parallel_calls=tf.data.AUTOTUNE)\n",
    "    .prefetch(buffer_size=tf.data.AUTOTUNE)\n",
    ")\n",
    "\n",
    "# test\n",
    "ds_test = (\n",
    "    tf.data.Dataset.from_tensor_slices((path_images_test, path_masks_test, path_labels_boxes_test))\n",
    "    .shuffle(buffer_size=len(path_images_test))\n",
    "    .map(data_reader_encoder.read_and_encode, num_parallel_calls=tf.data.AUTOTUNE)\n",
    "    .batch(batch_size=BATCH_SIZE)\n",
    "    .map(ssdseglib.datacoder.augmentation_rgb_channels, num_parallel_calls=tf.data.AUTOTUNE)\n",
    "    .prefetch(buffer_size=tf.data.AUTOTUNE)\n",
    ")"
   ]
  },
  {
   "cell_type": "markdown",
   "metadata": {},
   "source": [
    "# weighted losses for model training"
   ]
  },
  {
   "cell_type": "code",
   "execution_count": 7,
   "metadata": {},
   "outputs": [],
   "source": [
    "# weighted loss for semantic segmentation\n",
    "loss_mask = ssdseglib.losses.dice_loss(classes_weights=(0.1, 0.3, 0.3, 0.3))"
   ]
  },
  {
   "cell_type": "markdown",
   "metadata": {},
   "source": [
    "# weighted metrics for model training"
   ]
  },
  {
   "cell_type": "code",
   "execution_count": 8,
   "metadata": {},
   "outputs": [],
   "source": [
    "# weighted metrics for semantic segmentation\n",
    "metric_mask = ssdseglib.metrics.jaccard_iou_segmentation_masks(classes_weights=(0.1, 0.3, 0.3, 0.3))\n",
    "\n",
    "# weighted metrics for boxes classification\n",
    "metric_labels = ssdseglib.metrics.categorical_accuracy(classes_weights=(0.1, 0.3, 0.3, 0.3))\n",
    "\n",
    "# weighted metrics for boxes regression\n",
    "metric_boxes = ssdseglib.metrics.jaccard_iou_bounding_boxes(\n",
    "    center_x_boxes_default=data_reader_encoder.center_x_boxes_default,\n",
    "    center_y_boxes_default=data_reader_encoder.center_y_boxes_default,\n",
    "    width_boxes_default=data_reader_encoder.width_boxes_default,\n",
    "    height_boxes_default=data_reader_encoder.height_boxes_default,\n",
    "    standard_deviation_center_x_offsets=data_reader_encoder.standard_deviation_center_x_offsets,\n",
    "    standard_deviation_center_y_offsets=data_reader_encoder.standard_deviation_center_y_offsets,\n",
    "    standard_deviation_width_offsets=data_reader_encoder.standard_deviation_width_offsets,\n",
    "    standard_deviation_height_offsets=data_reader_encoder.standard_deviation_height_offsets\n",
    ")"
   ]
  },
  {
   "cell_type": "markdown",
   "metadata": {},
   "source": [
    "# model"
   ]
  },
  {
   "cell_type": "markdown",
   "metadata": {},
   "source": [
    "## architecture"
   ]
  },
  {
   "cell_type": "code",
   "execution_count": 9,
   "metadata": {},
   "outputs": [],
   "source": [
    "# mobilenet-v2 with ssdlite and deeplabv3+\n",
    "model = ssdseglib.models.build_mobilenetv2_ssdseg(\n",
    "    number_of_boxes_per_point=[\n",
    "        len(aspect_ratios) + 1 if boxes_default.additional_square_box else 0\n",
    "        for aspect_ratios in boxes_default.feature_maps_aspect_ratios\n",
    "    ],\n",
    "    number_of_classes=NUMBER_OF_CLASSES\n",
    ")"
   ]
  },
  {
   "cell_type": "markdown",
   "metadata": {},
   "source": [
    "## optimizer"
   ]
  },
  {
   "cell_type": "code",
   "execution_count": 10,
   "metadata": {},
   "outputs": [],
   "source": [
    "# put here optimizer and learning rate schedule"
   ]
  },
  {
   "cell_type": "markdown",
   "metadata": {},
   "source": [
    "## compile"
   ]
  },
  {
   "cell_type": "code",
   "execution_count": 11,
   "metadata": {},
   "outputs": [],
   "source": [
    "# each ouput has its own loss and metrics\n",
    "model.compile(\n",
    "    optimizer='adam',\n",
    "    loss={\n",
    "        'output-mask': loss_mask,\n",
    "        'output-labels': ssdseglib.losses.confidence_loss,\n",
    "        'output-boxes': ssdseglib.losses.localization_loss\n",
    "    },\n",
    "    loss_weights={\n",
    "        'output-mask': 1.0,\n",
    "        'output-labels': 1.0,\n",
    "        'output-boxes': 1.0\n",
    "    },\n",
    "    metrics={\n",
    "        'output-mask': metric_mask,\n",
    "        'output-labels': metric_labels,\n",
    "        'output-boxes': metric_boxes,\n",
    "    }\n",
    ")"
   ]
  },
  {
   "cell_type": "markdown",
   "metadata": {},
   "source": [
    "## fit"
   ]
  },
  {
   "cell_type": "code",
   "execution_count": 12,
   "metadata": {},
   "outputs": [
    {
     "name": "stdout",
     "output_type": "stream",
     "text": [
      "  1/124 [..............................] - ETA: 1:34:53 - loss: 149.6810 - output-mask_loss: 0.9312 - output-labels_loss: 140.2565 - output-boxes_loss: 8.4933 - output-mask_metric: 0.0401 - output-labels_metric: 0.7373 - output-boxes_metric: 0.0036"
     ]
    }
   ],
   "source": [
    "# fit the model\n",
    "history = model.fit(\n",
    "    ds_train,\n",
    "    validation_data=ds_eval,\n",
    "    epochs=1\n",
    ")"
   ]
  },
  {
   "cell_type": "markdown",
   "metadata": {},
   "source": [
    "## plot losses history"
   ]
  },
  {
   "cell_type": "code",
   "execution_count": null,
   "metadata": {},
   "outputs": [],
   "source": []
  }
 ],
 "metadata": {
  "kernelspec": {
   "display_name": "venv",
   "language": "python",
   "name": "python3"
  },
  "language_info": {
   "codemirror_mode": {
    "name": "ipython",
    "version": 3
   },
   "file_extension": ".py",
   "mimetype": "text/x-python",
   "name": "python",
   "nbconvert_exporter": "python",
   "pygments_lexer": "ipython3",
   "version": "3.10.12"
  },
  "orig_nbformat": 4
 },
 "nbformat": 4,
 "nbformat_minor": 2
}
