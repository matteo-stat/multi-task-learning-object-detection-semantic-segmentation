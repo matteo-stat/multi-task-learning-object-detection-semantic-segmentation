{
 "cells": [
  {
   "cell_type": "markdown",
   "metadata": {},
   "source": [
    "# global variables"
   ]
  },
  {
   "cell_type": "code",
   "execution_count": null,
   "metadata": {},
   "outputs": [],
   "source": [
    "# data options\n",
    "INPUT_IMAGE_SHAPE = (480, 640)\n",
    "CLASSES_WEIGTHS = [0.25, 0.25, 0.25, 0.25]\n",
    "\n",
    "# tensorflow options\n",
    "SHUFFLE_BUFFER_SIZE = 512\n",
    "BATCH_SIZE = 16\n",
    "SEED = 1993"
   ]
  },
  {
   "cell_type": "markdown",
   "metadata": {},
   "source": [
    "# dependecies"
   ]
  },
  {
   "cell_type": "code",
   "execution_count": null,
   "metadata": {},
   "outputs": [],
   "source": [
    "import ssdseglib\n",
    "import json\n",
    "import tensorflow as tf\n",
    "tf.random.set_seed(SEED)"
   ]
  },
  {
   "cell_type": "markdown",
   "metadata": {},
   "source": [
    "# default bounding boxes"
   ]
  },
  {
   "cell_type": "code",
   "execution_count": null,
   "metadata": {},
   "outputs": [],
   "source": [
    "# create default bounding boxes\n",
    "boxes_default = ssdseglib.boxes.DefaultBoundingBoxes(\n",
    "    feature_maps_shapes=((30, 40), (15, 20), (8, 10), (4, 5)),\n",
    "    centers_padding_from_borders_percentage=0.025,\n",
    "    boxes_scales=(0.2, 0.9),\n",
    "    additional_square_box=True,  \n",
    ")\n",
    "\n",
    "# rescale default bounding boxes to input image shape\n",
    "boxes_default.rescale_boxes_coordinates(image_shape=INPUT_IMAGE_SHAPE)"
   ]
  },
  {
   "cell_type": "markdown",
   "metadata": {},
   "source": [
    "# input data"
   ]
  },
  {
   "cell_type": "markdown",
   "metadata": {},
   "source": [
    "## load metadata"
   ]
  },
  {
   "cell_type": "code",
   "execution_count": null,
   "metadata": {},
   "outputs": [],
   "source": [
    "# training\n",
    "with open('data/train.json', 'r') as f:\n",
    "    path_images_train, path_masks_train, path_labels_boxes_train = map(list, zip(*json.load(f)))\n",
    "\n",
    "# validation\n",
    "with open('data/eval.json', 'r') as f:\n",
    "    path_images_eval, path_masks_eval, path_labels_boxes_eval = map(list, zip(*json.load(f)))\n",
    "\n",
    "# test\n",
    "with open('data/test.json', 'r') as f:\n",
    "    path_images_test, path_masks_test, path_labels_boxes_test = map(list, zip(*json.load(f)))"
   ]
  },
  {
   "cell_type": "markdown",
   "metadata": {},
   "source": [
    "## data encoder"
   ]
  },
  {
   "cell_type": "code",
   "execution_count": null,
   "metadata": {},
   "outputs": [],
   "source": [
    "# create a data reader encoder\n",
    "data_reader_encoder = ssdseglib.datacoder.DataEncoderDecoder(\n",
    "    num_classes=4,\n",
    "    image_shape=INPUT_IMAGE_SHAPE,\n",
    "    xmin_boxes_default=boxes_default.get_boxes_coordinates_xmin(coordinates_style='ssd'),\n",
    "    ymin_boxes_default=boxes_default.get_boxes_coordinates_ymin(coordinates_style='ssd'),\n",
    "    xmax_boxes_default=boxes_default.get_boxes_coordinates_xmax(coordinates_style='ssd'),\n",
    "    ymax_boxes_default=boxes_default.get_boxes_coordinates_ymax(coordinates_style='ssd'),\n",
    "    iou_threshold=0.5,\n",
    "    standard_deviations_centroids_offsets=(0.1, 0.1, 0.2, 0.2),\n",
    "    augmentation_horizontal_flip=True\n",
    ")"
   ]
  },
  {
   "cell_type": "markdown",
   "metadata": {},
   "source": [
    "## tensorflow datasets"
   ]
  },
  {
   "cell_type": "code",
   "execution_count": null,
   "metadata": {},
   "outputs": [],
   "source": [
    "# training\n",
    "ds_train = (\n",
    "    tf.data.Dataset.from_tensor_slices((path_images_train, path_masks_train, path_labels_boxes_train))\n",
    "    .shuffle(buffer_size=SHUFFLE_BUFFER_SIZE)\n",
    "    .map(data_reader_encoder.read_and_encode, num_parallel_calls=tf.data.AUTOTUNE)\n",
    "    .batch(batch_size=BATCH_SIZE)\n",
    "    .map(ssdseglib.datacoder.augmentation_rgb_channels, num_parallel_calls=tf.data.AUTOTUNE)\n",
    "    .prefetch(buffer_size=tf.data.AUTOTUNE)\n",
    ")\n",
    "\n",
    "# validation\n",
    "ds_eval = (\n",
    "    tf.data.Dataset.from_tensor_slices((path_images_eval, path_masks_eval, path_labels_boxes_eval))\n",
    "    .shuffle(buffer_size=SHUFFLE_BUFFER_SIZE)\n",
    "    .map(data_reader_encoder.read_and_encode, num_parallel_calls=tf.data.AUTOTUNE)\n",
    "    .batch(batch_size=BATCH_SIZE)\n",
    "    .map(ssdseglib.datacoder.augmentation_rgb_channels, num_parallel_calls=tf.data.AUTOTUNE)\n",
    "    .prefetch(buffer_size=tf.data.AUTOTUNE)\n",
    ")\n",
    "\n",
    "# test\n",
    "ds_test = (\n",
    "    tf.data.Dataset.from_tensor_slices((path_images_test, path_masks_test, path_labels_boxes_test))\n",
    "    .shuffle(buffer_size=SHUFFLE_BUFFER_SIZE)\n",
    "    .map(data_reader_encoder.read_and_encode, num_parallel_calls=tf.data.AUTOTUNE)\n",
    "    .batch(batch_size=BATCH_SIZE)\n",
    "    .map(ssdseglib.datacoder.augmentation_rgb_channels, num_parallel_calls=tf.data.AUTOTUNE)\n",
    "    .prefetch(buffer_size=tf.data.AUTOTUNE)\n",
    ")"
   ]
  },
  {
   "cell_type": "markdown",
   "metadata": {},
   "source": [
    "# weighted losses for model training"
   ]
  },
  {
   "cell_type": "code",
   "execution_count": null,
   "metadata": {},
   "outputs": [],
   "source": [
    "# weighted loss for semantic segmentation\n",
    "loss_mask = ssdseglib.losses.dice_loss(classes_weights=CLASSES_WEIGTHS)"
   ]
  },
  {
   "cell_type": "markdown",
   "metadata": {},
   "source": [
    "# weighted metrics for model training"
   ]
  },
  {
   "cell_type": "code",
   "execution_count": null,
   "metadata": {},
   "outputs": [],
   "source": [
    "# weighted metrics for semantic segmentation\n",
    "metric_mask = ssdseglib.metrics.jaccard_iou_segmentation_masks(classes_weights=CLASSES_WEIGTHS)\n",
    "\n",
    "# weighted metrics for boxes classification\n",
    "metric_labels = ssdseglib.metrics.categorical_accuracy(classes_weights=CLASSES_WEIGTHS)\n",
    "\n",
    "# weighted metrics for boxes regression\n",
    "metric_boxes = ssdseglib.metrics.jaccard_iou_bounding_boxes(\n",
    "    center_x_boxes_default=data_reader_encoder.center_x_boxes_default,\n",
    "    center_y_boxes_default=data_reader_encoder.center_y_boxes_default,\n",
    "    width_boxes_default=data_reader_encoder.width_boxes_default,\n",
    "    height_boxes_default=data_reader_encoder.height_boxes_default,\n",
    "    standard_deviation_center_x_offsets=data_reader_encoder.standard_deviation_center_x_offsets,\n",
    "    standard_deviation_center_y_offsets=data_reader_encoder.standard_deviation_center_y_offsets,\n",
    "    standard_deviation_width_offsets=data_reader_encoder.standard_deviation_width_offsets,\n",
    "    standard_deviation_height_offsets=data_reader_encoder.standard_deviation_height_offsets\n",
    ")"
   ]
  },
  {
   "cell_type": "markdown",
   "metadata": {},
   "source": [
    "# model"
   ]
  },
  {
   "cell_type": "markdown",
   "metadata": {},
   "source": [
    "## architecture"
   ]
  },
  {
   "cell_type": "code",
   "execution_count": null,
   "metadata": {},
   "outputs": [],
   "source": [
    "# mobilenet-v2 with ssdlite and deeplabv3+\n",
    "model = ssdseglib.models.build_mobilenetv2_ssdseg(\n",
    "    number_of_boxes_per_point=[\n",
    "        len(aspect_ratios) + 1 if boxes_default.additional_square_box else 0\n",
    "        for aspect_ratios in boxes_default.feature_maps_aspect_ratios\n",
    "    ],\n",
    "    number_of_classes=len(CLASSES_WEIGTHS)\n",
    ")"
   ]
  },
  {
   "cell_type": "markdown",
   "metadata": {},
   "source": [
    "## compile"
   ]
  },
  {
   "cell_type": "code",
   "execution_count": null,
   "metadata": {},
   "outputs": [],
   "source": [
    "# each ouput has its own loss and metrics\n",
    "model.compile(\n",
    "    optimizer='adam',\n",
    "    loss={\n",
    "        'output-mask': loss_mask,\n",
    "        'output-labels': ssdseglib.losses.confidence_loss,\n",
    "        'output-boxes': ssdseglib.losses.localization_loss\n",
    "    },\n",
    "    loss_weights={\n",
    "        'output-mask': 1.0,\n",
    "        'output-labels': 1.0,\n",
    "        'output-boxes': 1.0\n",
    "    },\n",
    "    metrics={\n",
    "        'output-mask': metric_mask,\n",
    "        'output-labels': metric_labels,\n",
    "        'output-boxes': metric_boxes,\n",
    "    }\n",
    ")"
   ]
  }
 ],
 "metadata": {
  "kernelspec": {
   "display_name": "venv",
   "language": "python",
   "name": "python3"
  },
  "language_info": {
   "name": "python",
   "version": "3.10.12"
  },
  "orig_nbformat": 4
 },
 "nbformat": 4,
 "nbformat_minor": 2
}
