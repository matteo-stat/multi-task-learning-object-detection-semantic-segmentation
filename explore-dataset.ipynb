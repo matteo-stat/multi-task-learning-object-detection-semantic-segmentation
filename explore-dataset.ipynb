{
 "cells": [
  {
   "cell_type": "markdown",
   "metadata": {},
   "source": [
    "# global variables"
   ]
  },
  {
   "cell_type": "code",
   "execution_count": 1,
   "metadata": {},
   "outputs": [],
   "source": [
    "# data options\n",
    "LABELS_CODES = [0, 1, 2, 3]\n",
    "LABEL_CODE_BACKGROUND = 0\n",
    "NUMBER_OF_CLASSES = len(LABELS_CODES)\n",
    "\n",
    "# labels conversions\n",
    "LABEL_CODE_TO_DESC = {\n",
    "    1: 'monorail',\n",
    "    2: 'person',\n",
    "    3: 'forklift'\n",
    "}\n",
    "LABEL_CODE_TO_COLOR = {\n",
    "    1: 'red',\n",
    "    2: 'green',\n",
    "    3: 'blue'\n",
    "}\n",
    "\n",
    "# used for format printing\n",
    "LENGTH_LONGEST_LABEL = max(len(label) for label in LABEL_CODE_TO_DESC.values())"
   ]
  },
  {
   "cell_type": "markdown",
   "metadata": {},
   "source": [
    "# dependecies"
   ]
  },
  {
   "cell_type": "code",
   "execution_count": 2,
   "metadata": {},
   "outputs": [],
   "source": [
    "import csv\n",
    "import json\n",
    "import numpy as np\n",
    "import random"
   ]
  },
  {
   "cell_type": "markdown",
   "metadata": {},
   "source": [
    "# load metadata"
   ]
  },
  {
   "cell_type": "code",
   "execution_count": 14,
   "metadata": {},
   "outputs": [],
   "source": [
    "# training\n",
    "data = []\n",
    "\n",
    "# train\n",
    "with open('data/train.json', 'r') as f:\n",
    "    data.extend(json.load(f))\n",
    "\n",
    "# train additional - persons\n",
    "with open('data/train-additional-persons.json', 'r') as f:\n",
    "    persons = json.load(f)\n",
    "    persons = random.sample(persons, int(len(persons)*0.8))\n",
    "    data.extend(persons)\n",
    "\n",
    "# train additional - forklifts\n",
    "with open('data/train-additional-forklifts.json', 'r') as f:\n",
    "    data.extend(json.load(f))\n",
    "\n",
    "# the training set it's small and the validation set even smaller..\n",
    "# it's so small that probably any metrics on it won't be particularly reliable \n",
    "# at this point maybe it's just better to use the validation set as additional training data\n",
    "with open('data/eval-persons-forklifts.json', 'r') as f:\n",
    "    data.extend(json.load(f))\n",
    "\n",
    "# unpack train metadata into separate lists\n",
    "path_files_images_train, path_files_masks_train, path_files_labels_boxes_train = map(list, zip(*data))\n",
    "\n",
    "# test\n",
    "with open('data/test.json', 'r') as f:\n",
    "    path_files_images_test, path_files_masks_test, path_files_labels_boxes_test = map(list, zip(*json.load(f)))"
   ]
  },
  {
   "cell_type": "markdown",
   "metadata": {},
   "source": [
    "# object detection"
   ]
  },
  {
   "cell_type": "code",
   "execution_count": 15,
   "metadata": {},
   "outputs": [],
   "source": [
    "# which data should be evaluated?\n",
    "PATH_FILES_LABELS_BOXES = path_files_labels_boxes_train"
   ]
  },
  {
   "cell_type": "markdown",
   "metadata": {},
   "source": [
    "## samples, images and boxes aspect ratios for each class"
   ]
  },
  {
   "cell_type": "code",
   "execution_count": 16,
   "metadata": {},
   "outputs": [],
   "source": [
    "# for each class initialize counters for samples (images), instances (objects) and boxes aspect ratios (width / height)\n",
    "# storing samples indexes per class and then counting the number of unique indexes it's a simple way to count samples per class\n",
    "samples_per_class = {label: [] for label in LABELS_CODES if label != LABEL_CODE_BACKGROUND}\n",
    "instances_per_class = {label: 0 for label in LABELS_CODES if label != LABEL_CODE_BACKGROUND}\n",
    "boxes_aspect_ratios_per_class = {label: [] for label in LABELS_CODES if label != LABEL_CODE_BACKGROUND}\n",
    "\n",
    "# for each file count number of samples per class and images per class\n",
    "for i, path_file_labels_boxes in enumerate(PATH_FILES_LABELS_BOXES):\n",
    "\n",
    "    # read ground truth labels and boxes\n",
    "    with open(path_file_labels_boxes, 'r') as f:\n",
    "        for label, xmin, ymin, xmax, ymax in csv.reader(f):\n",
    "\n",
    "            # format ground truth data\n",
    "            label = int(label)\n",
    "            width = float(xmax) - float(xmin) + 1.0\n",
    "            height = float(ymax) - float(ymin) + 1.0            \n",
    "\n",
    "            # add indexes for count samples later on\n",
    "            samples_per_class[label].append(i)\n",
    "\n",
    "            # increment instances counter\n",
    "            instances_per_class[label] += 1\n",
    "\n",
    "            # add aspect ratio to the list\n",
    "            boxes_aspect_ratios_per_class[label].append(width / height)\n",
    "\n",
    "\n",
    "# calculate the number of samples per class\n",
    "samples_per_class = {label: len(set(indexes)) for label, indexes in samples_per_class.items()}"
   ]
  },
  {
   "cell_type": "code",
   "execution_count": 18,
   "metadata": {},
   "outputs": [
    {
     "name": "stdout",
     "output_type": "stream",
     "text": [
      "\n",
      "************************\n",
      "***      samples     ***\n",
      "************************\n",
      "> monorail: 1,340 - 34%\n",
      ">   person: 1,443 - 37%\n",
      "> forklift: 1,153 - 29%\n",
      "\n",
      "************************\n",
      "***    instances     ***\n",
      "************************\n",
      "> monorail: 1,861 - 34%\n",
      ">   person: 2,097 - 38%\n",
      "> forklift: 1,535 - 28%\n",
      "\n",
      "************************\n",
      "***   aspect ratios  ***\n",
      "***   (percentiles)  ***\n",
      "************************\n",
      "> monorail\n",
      "   - p10: 0.300\n",
      "   - p20: 0.503\n",
      "   - p30: 0.801\n",
      "   - p40: 1.233\n",
      "   - p50: 1.570\n",
      "   - p60: 2.044\n",
      "   - p70: 2.502\n",
      "   - p80: 3.376\n",
      "   - p90: 5.129\n",
      "> person\n",
      "   - p10: 0.315\n",
      "   - p20: 0.385\n",
      "   - p30: 0.467\n",
      "   - p40: 0.557\n",
      "   - p50: 0.662\n",
      "   - p60: 0.781\n",
      "   - p70: 0.955\n",
      "   - p80: 1.277\n",
      "   - p90: 2.571\n",
      "> forklift\n",
      "   - p10: 0.461\n",
      "   - p20: 0.587\n",
      "   - p30: 0.728\n",
      "   - p40: 0.845\n",
      "   - p50: 0.975\n",
      "   - p60: 1.134\n",
      "   - p70: 1.272\n",
      "   - p80: 1.442\n",
      "   - p90: 1.930\n"
     ]
    }
   ],
   "source": [
    "# print samples\n",
    "total_samples = sum(samples_per_class.values())\n",
    "print('\\n************************')\n",
    "print(f'***      samples     ***')\n",
    "print('************************')\n",
    "for label, samples in samples_per_class.items():\n",
    "    text_desc = f'{LABEL_CODE_TO_DESC[label]:>{LENGTH_LONGEST_LABEL}}'\n",
    "    text_values_absolute = format(samples, \",\")\n",
    "    text_values_percentages = f'{samples / total_samples * 100:.0f}%'\n",
    "    print(f'> {text_desc}: {text_values_absolute:>5} - {text_values_percentages}')\n",
    "\n",
    "# print instances\n",
    "total_instances = sum(instances_per_class.values())\n",
    "print('\\n************************')\n",
    "print(f'***    instances     ***')\n",
    "print('************************')\n",
    "for label, instances in instances_per_class.items():\n",
    "    text_desc = f'{LABEL_CODE_TO_DESC[label]:>{LENGTH_LONGEST_LABEL}}'\n",
    "    text_values_absolute = format(instances, \",\")\n",
    "    text_values_percentages = f'{instances / total_instances * 100:.0f}%'\n",
    "    print(f'> {text_desc}: {text_values_absolute:>5} - {text_values_percentages}')\n",
    "    \n",
    "# print aspect ratios\n",
    "percentiles = [10, 20, 30, 40, 50, 60, 70, 80, 90]\n",
    "print('\\n************************')\n",
    "print(f'***   aspect ratios  ***')\n",
    "print(f'***   (percentiles)  ***')\n",
    "print('************************')\n",
    "for label, aspect_ratios in boxes_aspect_ratios_per_class.items():\n",
    "    aspect_ratios = np.array(aspect_ratios)\n",
    "    percentile_values = np.percentile(aspect_ratios, percentiles)\n",
    "    print(f'> {LABEL_CODE_TO_DESC[label]}')\n",
    "    for percentile, value in zip(percentiles, percentile_values):\n",
    "        print(f'   - p{percentile}: {value:.3f}')"
   ]
  }
 ],
 "metadata": {
  "kernelspec": {
   "display_name": "venv",
   "language": "python",
   "name": "python3"
  },
  "language_info": {
   "codemirror_mode": {
    "name": "ipython",
    "version": 3
   },
   "file_extension": ".py",
   "mimetype": "text/x-python",
   "name": "python",
   "nbconvert_exporter": "python",
   "pygments_lexer": "ipython3",
   "version": "3.10.12"
  },
  "orig_nbformat": 4
 },
 "nbformat": 4,
 "nbformat_minor": 2
}
